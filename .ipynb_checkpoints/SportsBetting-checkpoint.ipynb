{
 "cells": [
  {
   "cell_type": "code",
   "execution_count": 113,
   "metadata": {},
   "outputs": [],
   "source": [
    "import pandas as pd \n",
    "import numpy as np\n",
    "import csv\n",
    "import os.path\n",
    "from matplotlib import pyplot as plt\n",
    "import matplotlib.patches as mpatches"
   ]
  },
  {
   "cell_type": "code",
   "execution_count": 2,
   "metadata": {},
   "outputs": [],
   "source": [
    "#Importing the data from the csv file in the Data folder and turn them into pandas dataframe. Some of them needs to be converted to int datatype to combina all the datasets because some of the dataframe is type object when read'''\n",
    "champions = pd.read_csv(r'./Data/champs.csv')\n",
    "matches = pd.read_csv(r'./Data/matches.csv', dtype = np.array(np.dtype('int16')))\n",
    "stats1 = pd.read_csv(r'./Data/stats1.csv', dtype = np.array(np.dtype('int16')))\n",
    "stats1_2 = pd.read_csv(r'./Data/stats1-2.csv', dtype = np.array(np.dtype('int16')))\n",
    "stats1_3 = pd.read_csv(r'./Data/stats1-3.csv', dtype = np.array(np.dtype('int16')))\n",
    "stats2 = pd.read_csv(r'./Data/stats2.csv', dtype = np.array(np.dtype('int16')))\n",
    "stats2_2 = pd.read_csv(r'./Data/stats2-2.csv', dtype = np.array(np.dtype('int16')))\n",
    "\n",
    "#Appending stats1 and stats2 dataset\n",
    "stats1_2 = pd.concat([stats1_2,stats1_3],sort = False)#stats1_2.concat(stats1_3,, sort = False);\n",
    "stats1 = pd.concat([stats1,stats1_2],sort = False)#stats1.concat(stats1_2);\n",
    "stats2 = pd.concat([stats2,stats2_2],sort = False)#stats2.concat(stats2_2);\n",
    "stats =pd.concat([stats1,stats2],sort = False)# stats1.concat(stats2)"
   ]
  },
  {
   "cell_type": "code",
   "execution_count": 3,
   "metadata": {},
   "outputs": [],
   "source": [
    "#Merge particpants with appropriate champion name. test\n",
    "participants = pd.read_csv(r'./Data/participants.csv', dtype = np.array(np.dtype('int16')))\n",
    "#Rename the column of the participants dataframe from id to play_id and championid to id for better clarification. inplace so no extra copy is made\n",
    "participants.rename(columns ={'id': 'player_id','championid':'id'}, inplace = True)\n",
    "#Merge the participants dataset with the champions dataset based on the championid. This is similar to left join in SQL \n",
    "champions['id'] = champions['id'].astype(str).astype(int)\n",
    "participants['id'] = participants['id'].astype(str).astype(int)\n",
    "participants = pd.concat([participants.set_index('id'),champions.set_index('id')], axis=1, join='inner').reset_index()\n",
    "#Delete the column role because I think it's irrelevant for now \n",
    "\n",
    "#Rename the stats data set column from id to player_id and inplace \n",
    "stats.rename(columns={'id':'player_id'},inplace = True)\n",
    "#Convert the player_id column to int because it is currently type Object and we cannot manipulate object type column and int type column too easily \n",
    "stats['player_id'] = stats['player_id'].astype(int)\n",
    "participants['player_id'] = participants['player_id'].astype(str).astype(int)\n",
    "#merge the participants dataset with stats dataset based on the player_id. This makes participants a massive dataset with lots of columns and champions that each player uses\n",
    "participants = participants.merge(stats, how = 'left', on = 'player_id')\n",
    "#This is me testing out the gorupby but this will group the champion based on their name and count how many win and lose they have. Win and lose are represented with 0 and 1 \n",
    "champsFreq = participants.groupby(['name','win'])['win'].count()\n",
    "\n",
    "#Turn it into a dataframe\n",
    "champsFreq = pd.DataFrame(champsFreq)\n",
    "#Add Suffix Count to the second column. When we groupby, it creates columns with same name and it's difficult to select columns so I add a letter to the column with the number of wins and lose for easy access to the dataframe\n",
    "champsFreq = champsFreq.add_suffix('Count').reset_index()\n",
    "#Converting the columns from object to int type\n",
    "champsFreq['win'] = champsFreq['win'].astype(str).astype(int)"
   ]
  },
  {
   "cell_type": "code",
   "execution_count": 10,
   "metadata": {},
   "outputs": [],
   "source": [
    "#Get the lose values\n",
    "loseValues = champsFreq.loc[champsFreq['win'] == 0,'winCount'].reset_index()\n",
    "loseValues.rename(columns = {'winCount': 'lose'}, inplace = True)\n",
    "loseValues = loseValues['lose']\n",
    "\n",
    "#Get the win values\n",
    "winValues = champsFreq.loc[champsFreq['win'] == 1, 'winCount'].reset_index()\n",
    "winValues.rename(columns = {'winCount':'win'}, inplace = True)\n",
    "winValues = winValues['win']\n",
    "\n",
    "#Get the champion name\n",
    "championName = champsFreq['name'].drop_duplicates().reset_index()\n",
    "championName = championName['name']"
   ]
  },
  {
   "cell_type": "code",
   "execution_count": 51,
   "metadata": {},
   "outputs": [],
   "source": [
    "#get the match data for season 8 only\n",
    "matches['seasonid'] = matches['seasonid'].astype(int)\n",
    "matches = matches[matches['seasonid'] == 8]\n",
    "matches['matchid'] = matches['matchid'].astype(int)"
   ]
  },
  {
   "cell_type": "code",
   "execution_count": 52,
   "metadata": {},
   "outputs": [],
   "source": [
    "#get the match id specific columns good for evaluation \n",
    "matches.rename(columns = {'id': 'matchid'}, inplace = True)\n",
    "matches = matches[['matchid','seasonid','duration','version']]"
   ]
  },
  {
   "cell_type": "code",
   "execution_count": null,
   "metadata": {},
   "outputs": [],
   "source": [
    "#get participants columns that needed \n",
    "participants_match = participants[['id','player_id','matchid','player','name','win']]\n",
    "participants_match['matchid'] = participants_match['matchid'].astype(int)"
   ]
  },
  {
   "cell_type": "code",
   "execution_count": 71,
   "metadata": {
    "scrolled": true
   },
   "outputs": [],
   "source": [
    "#merge on matchid \n",
    "new_match = pd.merge(matches, participants_match, on = 'matchid')\n",
    "new_match['player'] = new_match['player'].astype(int)"
   ]
  },
  {
   "cell_type": "code",
   "execution_count": 72,
   "metadata": {},
   "outputs": [],
   "source": [
    "#Remake the chamions dataframe with win and lose values for each champion to make a clearer dataframe\n",
    "champions_values = pd.DataFrame([championName, winValues, loseValues]).transpose()"
   ]
  },
  {
   "cell_type": "code",
   "execution_count": null,
   "metadata": {},
   "outputs": [],
   "source": [
    "#look for inconsistant data in the new_match dataframe\n",
    "toDel = []\n",
    "test = [1,2,3,4,5,6,7,8,9,10]\n",
    "for i in listVal:\n",
    "    listPlayer = list(new_match['player'].loc[new_match['matchid'] == i])\n",
    "    #check if the list follows the same order of ten players\n",
    "    if listPlayer == test:\n",
    "        continue\n",
    "    else:\n",
    "        toDel.append(i)"
   ]
  },
  {
   "cell_type": "code",
   "execution_count": 85,
   "metadata": {},
   "outputs": [],
   "source": [
    "#Remove all bad rows\n",
    "new_match = new_match[~new_match.matchid.isin(toDel)]"
   ]
  },
  {
   "cell_type": "code",
   "execution_count": 104,
   "metadata": {},
   "outputs": [],
   "source": [
    "#sort the champions_values based on win rate\n",
    "testPlt = champions_values.sort_values(by = ['win'], ascending = [False])"
   ]
  },
  {
   "cell_type": "code",
   "execution_count": 106,
   "metadata": {},
   "outputs": [],
   "source": [
    "#Get the top 5 with the highest win rate\n",
    "testChamp = testPlt[0:5]"
   ]
  },
  {
   "cell_type": "code",
   "execution_count": 119,
   "metadata": {},
   "outputs": [
    {
     "data": {
      "image/png": "[encoded data removed]",
      "text/plain": [
       "<Figure size 842.4x595.44 with 1 Axes>"
      ]
     },
     "metadata": {},
     "output_type": "display_data"
    }
   ],
   "source": [
    "#plotting it\n",
    "labels = list(testChamp['name'])\n",
    "x = np.arange(len(labels))  # the label locations\n",
    "width = 0.35  # the width of the bars\n",
    "\n",
    "fig, ax = plt.subplots()\n",
    "rects1 = ax.bar(x - width/2, testChamp['win'], width, label='Win')\n",
    "rects2 = ax.bar(x + width/2, testChamp['lose'], width, label='Lose')\n",
    "\n",
    "# Add some text for labels, title and custom x-axis tick labels, etc.\n",
    "ax.set_ylabel('Outcomes')\n",
    "ax.set_title('Game Win/Lose Rate of a Champion')\n",
    "ax.set_xticks(x)\n",
    "ax.set_xticklabels(labels)\n",
    "ax.legend()\n",
    "\n",
    "\n",
    "def autolabel(rects):\n",
    "    \"\"\"Attach a text label above each bar in *rects*, displaying its height.\"\"\"\n",
    "    for rect in rects:\n",
    "        height = rect.get_height()\n",
    "        ax.annotate('{}'.format(height),\n",
    "                    xy=(rect.get_x() + rect.get_width() / 2, height),\n",
    "                    xytext=(0, 3),  # 3 points vertical offset\n",
    "                    textcoords=\"offset points\",\n",
    "                    ha='center', va='bottom')\n",
    "\n",
    "\n",
    "autolabel(rects1)\n",
    "autolabel(rects2)\n",
    "\n",
    "fig.tight_layout()\n",
    "\n",
    "plt.show()"
   ]
  },
  {
   "cell_type": "code",
   "execution_count": null,
   "metadata": {},
   "outputs": [],
   "source": []
  }
 ],
 "metadata": {
  "kernelspec": {
   "display_name": "Python 3",
   "language": "python",
   "name": "python3"
  },
  "language_info": {
   "codemirror_mode": {
    "name": "ipython",
    "version": 3
   },
   "file_extension": ".py",
   "mimetype": "text/x-python",
   "name": "python",
   "nbconvert_exporter": "python",
   "pygments_lexer": "ipython3",
   "version": "3.7.3"
  }
 },
 "nbformat": 4,
 "nbformat_minor": 1
}
