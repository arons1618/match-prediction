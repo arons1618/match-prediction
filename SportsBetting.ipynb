{
 "cells": [
  {
   "cell_type": "code",
   "execution_count": null,
   "metadata": {},
   "outputs": [],
   "source": [
    "import pandas as pd \n",
    "import numpy as np\n",
    "import csv\n",
    "import os.path\n",
    "from matplotlib import pyplot as plt\n",
    "import matplotlib.patches as mpatches\n",
    "import sklearn\n",
    "import seaborn as sns"
   ]
  },
  {
   "cell_type": "code",
   "execution_count": null,
   "metadata": {},
   "outputs": [],
   "source": [
    "#Importing the data from the csv file in the Data folder and turn them into pandas dataframe. Some of them needs to be converted to int datatype to combina all the datasets because some of the dataframe is type object when read'''\n",
    "champions = pd.read_csv(r'./Data/champs.csv')\n",
    "matches = pd.read_csv(r'./Data/matches.csv', dtype = np.array(np.dtype('int16')))\n",
    "stats1 = pd.read_csv(r'./Data/stats1.csv', dtype = np.array(np.dtype('int16')))\n",
    "stats1_2 = pd.read_csv(r'./Data/stats1-2.csv', dtype = np.array(np.dtype('int16')))\n",
    "stats1_3 = pd.read_csv(r'./Data/stats1-3.csv', dtype = np.array(np.dtype('int16')))\n",
    "stats2 = pd.read_csv(r'./Data/stats2.csv', dtype = np.array(np.dtype('int16')))\n",
    "stats2_2 = pd.read_csv(r'./Data/stats2-2.csv', dtype = np.array(np.dtype('int16')))\n",
    "\n",
    "#Appending stats1 and stats2 dataset\n",
    "stats1_2 = pd.concat([stats1_2,stats1_3],sort = False)#stats1_2.concat(stats1_3,, sort = False);\n",
    "stats1 = pd.concat([stats1,stats1_2],sort = False)#stats1.concat(stats1_2);\n",
    "stats2 = pd.concat([stats2,stats2_2],sort = False)#stats2.concat(stats2_2);\n",
    "stats =pd.concat([stats1,stats2],sort = False)# stats1.concat(stats2)"
   ]
  },
  {
   "cell_type": "code",
   "execution_count": null,
   "metadata": {},
   "outputs": [],
   "source": [
    "#Merge particpants with appropriate champion name. test\n",
    "participants = pd.read_csv(r'./Data/participants.csv', dtype = np.array(np.dtype('int16')))\n",
    "#Rename the column of the participants dataframe from id to play_id and championid to id for better clarification. inplace so no extra copy is made\n",
    "participants.rename(columns ={'id': 'player_id','championid':'id'}, inplace = True)\n",
    "#Merge the participants dataset with the champions dataset based on the championid. This is similar to left join in SQL \n",
    "champions['id'] = champions['id'].astype(str).astype(int)\n",
    "participants['id'] = participants['id'].astype(str).astype(int)\n",
    "participants = pd.concat([participants.set_index('id'),champions.set_index('id')], axis=1, join='inner').reset_index()\n",
    "#Delete the column role because I think it's irrelevant for now \n",
    "\n",
    "#Rename the stats data set column from id to player_id and inplace \n",
    "stats.rename(columns={'id':'player_id'},inplace = True)\n",
    "#Convert the player_id column to int because it is currently type Object and we cannot manipulate object type column and int type column too easily \n",
    "stats['player_id'] = stats['player_id'].astype(int)\n",
    "participants['player_id'] = participants['player_id'].astype(str).astype(int)\n",
    "#merge the participants dataset with stats dataset based on the player_id. This makes participants a massive dataset with lots of columns and champions that each player uses\n",
    "participants = participants.merge(stats, how = 'left', on = 'player_id')\n",
    "#This is me testing out the gorupby but this will group the champion based on their name and count how many win and lose they have. Win and lose are represented with 0 and 1 \n",
    "champsFreq = participants.groupby(['name','win'])['win'].count()\n",
    "\n",
    "#Turn it into a dataframe\n",
    "champsFreq = pd.DataFrame(champsFreq)\n",
    "#Add Suffix Count to the second column. When we groupby, it creates columns with same name and it's difficult to select columns so I add a letter to the column with the number of wins and lose for easy access to the dataframe\n",
    "champsFreq = champsFreq.add_suffix('Count').reset_index()\n",
    "#Converting the columns from object to int type\n",
    "champsFreq['win'] = champsFreq['win'].astype(str).astype(int)"
   ]
  },
  {
   "cell_type": "code",
   "execution_count": null,
   "metadata": {},
   "outputs": [],
   "source": [
    "#Get the lose values\n",
    "loseValues = champsFreq.loc[champsFreq['win'] == 0,'winCount'].reset_index()\n",
    "loseValues.rename(columns = {'winCount': 'lose'}, inplace = True)\n",
    "loseValues = loseValues['lose']\n",
    "\n",
    "#Get the win values\n",
    "winValues = champsFreq.loc[champsFreq['win'] == 1, 'winCount'].reset_index()\n",
    "winValues.rename(columns = {'winCount':'win'}, inplace = True)\n",
    "winValues = winValues['win']\n",
    "\n",
    "#Get the champion name\n",
    "championName = champsFreq['name'].drop_duplicates().reset_index()\n",
    "championName = championName['name']\n",
    "\n",
    "#Remake the chamions dataframe with win and lose values for each champion to make a clearer dataframe\n",
    "champions_values = pd.DataFrame([championName, winValues, loseValues]).transpose()"
   ]
  },
  {
   "cell_type": "code",
   "execution_count": null,
   "metadata": {},
   "outputs": [],
   "source": [
    "#get the match id specific columns good for evaluation \n",
    "matches.rename(columns = {'id': 'matchid'}, inplace = True)\n",
    "matches = matches[['matchid','seasonid','duration','version']]\n",
    "#get the match data for season 8 only\n",
    "matches['seasonid'] = matches['seasonid'].astype(int)\n",
    "matches = matches[matches['seasonid'] == 8]\n",
    "matches['matchid'] = matches['matchid'].astype(int)"
   ]
  },
  {
   "cell_type": "code",
   "execution_count": null,
   "metadata": {},
   "outputs": [],
   "source": [
    "#get participants columns that needed \n",
    "participants_match = participants[['id','player_id','matchid','player','name','win']]\n",
    "#participants_match = participants #we might need more col than this\n",
    "participants_match['matchid'] = participants_match['matchid'].astype(int)"
   ]
  },
  {
   "cell_type": "code",
   "execution_count": null,
   "metadata": {
    "scrolled": true
   },
   "outputs": [],
   "source": [
    "#merge on matchid \n",
    "new_match = pd.merge(matches, participants_match, on = 'matchid')\n",
    "new_match['player'] = new_match['player'].astype(int)"
   ]
  },
  {
   "cell_type": "code",
   "execution_count": null,
   "metadata": {},
   "outputs": [],
   "source": [
    "new_match.head()"
   ]
  },
  {
   "cell_type": "code",
   "execution_count": null,
   "metadata": {},
   "outputs": [],
   "source": [
    "#look for inconsistant data in the new_match dataframe\n",
    "toDel = []\n",
    "test = [1,2,3,4,5,6,7,8,9,10]\n",
    "listVal = list(dict.fromkeys(new_match['matchid']))"
   ]
  },
  {
   "cell_type": "code",
   "execution_count": null,
   "metadata": {},
   "outputs": [],
   "source": [
    "for i in listVal:\n",
    "    listPlayer = list(new_match['player'].loc[new_match['matchid'] == i])\n",
    "    #check if the list follows the same order of ten players\n",
    "    if listPlayer == test:\n",
    "        continue\n",
    "    else:\n",
    "        toDel.append(i)"
   ]
  },
  {
   "cell_type": "code",
   "execution_count": null,
   "metadata": {},
   "outputs": [],
   "source": [
    "#Remove all bad rows\n",
    "new_match = new_match[~new_match.matchid.isin(toDel)]"
   ]
  },
  {
   "cell_type": "code",
   "execution_count": null,
   "metadata": {},
   "outputs": [],
   "source": [
    "#sort the champions_values based on win rate\n",
    "testPlt = champions_values.sort_values(by = ['win'], ascending = [False])"
   ]
  },
  {
   "cell_type": "code",
   "execution_count": null,
   "metadata": {},
   "outputs": [],
   "source": [
    "#Get the top 5 with the highest win rate\n",
    "testChamp = testPlt[0:5]"
   ]
  },
  {
   "cell_type": "code",
   "execution_count": null,
   "metadata": {},
   "outputs": [],
   "source": [
    "#plotting it\n",
    "labels = list(testChamp['name'])\n",
    "x = np.arange(len(labels))  # the label locations\n",
    "width = 0.35  # the width of the bars\n",
    "\n",
    "fig, ax = plt.subplots()\n",
    "rects1 = ax.bar(x - width/2, testChamp['win'], width, label='Win') #setting the bar width for win rate\n",
    "rects2 = ax.bar(x + width/2, testChamp['lose'], width, label='Lose') #setting the bar width for lose rate\n",
    "\n",
    "# Add some text for labels, title and custom x-axis tick labels, etc.\n",
    "ax.set_ylabel('Outcomes')\n",
    "ax.set_title('Game Win/Lose Rate of a Champion')\n",
    "ax.set_xticks(x)\n",
    "ax.set_xticklabels(labels)\n",
    "ax.legend()\n",
    "\n",
    "\n",
    "def autolabel(rects):\n",
    "    \"\"\"Attach a text label above each bar in *rects*, displaying its height.\"\"\"\n",
    "    for rect in rects:\n",
    "        height = rect.get_height()\n",
    "        ax.annotate('{}'.format(height),\n",
    "                    xy=(rect.get_x() + rect.get_width() / 2, height),\n",
    "                    xytext=(0, 3),  # 3 points vertical offset\n",
    "                    textcoords=\"offset points\",\n",
    "                    ha='center', va='bottom')\n",
    "\n",
    "\n",
    "autolabel(rects1)\n",
    "autolabel(rects2)\n",
    "\n",
    "fig.tight_layout()\n",
    "\n",
    "plt.show()"
   ]
  },
  {
   "cell_type": "code",
   "execution_count": null,
   "metadata": {},
   "outputs": [],
   "source": [
    "#Remove all bad rows with inconsistent data\n",
    "stats_for_model = participants[~participants.matchid.isin(toDel)]\n",
    "stats_for_model"
   ]
  },
  {
   "cell_type": "code",
   "execution_count": null,
   "metadata": {},
   "outputs": [],
   "source": [
    "#Select only the columns that we would like to use\n",
    "#stats_for_model = stats_for_model[['player_id','matchid','name','win','kills','deaths','assists','totdmgtochamp','totminionskilled']]"
   ]
  },
  {
   "cell_type": "code",
   "execution_count": null,
   "metadata": {},
   "outputs": [],
   "source": [
    "listColumns = list(stats_for_model.columns)\n",
    "#Drop all NaN or empty value\n",
    "stats_for_model = stats_for_model.dropna()"
   ]
  },
  {
   "cell_type": "code",
   "execution_count": null,
   "metadata": {},
   "outputs": [],
   "source": [
    "#Convert all column other than name to int\n",
    "for i in listColumns:\n",
    "    if i != 'name':\n",
    "        stats_for_model[i] = stats_for_model[i].astype(int)\n",
    "    "
   ]
  },
  {
   "cell_type": "code",
   "execution_count": null,
   "metadata": {},
   "outputs": [],
   "source": [
    "#merge with match dataset based on matchid\n",
    "stats_for_model = stats_for_model.merge(matches, how = 'right', on = 'matchid')"
   ]
  },
  {
   "cell_type": "code",
   "execution_count": null,
   "metadata": {},
   "outputs": [],
   "source": [
    "del stats_for_model['version']\n",
    "del stats_for_model['duration']"
   ]
  },
  {
   "cell_type": "code",
   "execution_count": null,
   "metadata": {},
   "outputs": [],
   "source": [
    "#This is me testing out the gorupby but this will group the champion based on their name and count how many win and lose they have. Win and lose are represented with 0 and 1 \n",
    "champStats = stats_for_model.groupby(['name','win'])['win'].count()\n",
    "\n",
    "#Turn it into a dataframe\n",
    "champStats = pd.DataFrame(champStats)\n",
    "#Add Suffix Count to the second column. When we groupby, it creates columns with same name and it's difficult to select columns so I add a letter to the column with the number of wins and lose for easy access to the dataframe\n",
    "champStats = champStats.add_suffix('Count').reset_index()\n",
    "#Converting the columns from object to int type\n",
    "champStats['win'] = champStats['win'].astype(str).astype(int)\n",
    "\n",
    "#Get the lose values\n",
    "stats_loseValues = champStats.loc[champStats['win'] == 0,'winCount'].reset_index()\n",
    "stats_loseValues.rename(columns = {'winCount': 'lose'}, inplace = True)\n",
    "stats_loseValues = stats_loseValues['lose']\n",
    "\n",
    "#Get the win values\n",
    "stats_winValues = champStats.loc[champsFreq['win'] == 1, 'winCount'].reset_index()\n",
    "stats_winValues.rename(columns = {'winCount':'win'}, inplace = True)\n",
    "stats_winValues = stats_winValues['win']\n",
    "\n",
    "#Get the champion name\n",
    "stats_champName = champStats['name'].drop_duplicates().reset_index()\n",
    "stats_champName = stats_champName['name']\n",
    "\n",
    "#Remake the chamions dataframe with win and lose values for each champion to make a clearer dataframe\n",
    "champ_stats = pd.DataFrame([stats_champName, stats_winValues, stats_loseValues]).transpose()\n"
   ]
  },
  {
   "cell_type": "code",
   "execution_count": null,
   "metadata": {},
   "outputs": [],
   "source": [
    "#get average kill, deaths, assists, ... for each champion\n",
    "listChamps = list(stats_champName)\n",
    "listColumn = ['kills','deaths','assists','totdmgtochamp','totminionskilled']\n",
    "for colName in listColumn:\n",
    "    listVal = []\n",
    "    for champ in listChamps:\n",
    "        value = stats_for_model[colName].loc[stats_for_model['name'] == champ].mean()\n",
    "        listVal.append(value)\n",
    "    champ_stats['Ave ' + colName] = pd.DataFrame(listVal)"
   ]
  },
  {
   "cell_type": "code",
   "execution_count": null,
   "metadata": {},
   "outputs": [],
   "source": [
    "champ_stats"
   ]
  },
  {
   "cell_type": "code",
   "execution_count": null,
   "metadata": {},
   "outputs": [],
   "source": []
  }
 ],
 "metadata": {
  "kernelspec": {
   "display_name": "Python 3",
   "language": "python",
   "name": "python3"
  },
  "language_info": {
   "codemirror_mode": {
    "name": "ipython",
    "version": 3
   },
   "file_extension": ".py",
   "mimetype": "text/x-python",
   "name": "python",
   "nbconvert_exporter": "python",
   "pygments_lexer": "ipython3",
   "version": "3.7.3"
  }
 },
 "nbformat": 4,
 "nbformat_minor": 1
}
